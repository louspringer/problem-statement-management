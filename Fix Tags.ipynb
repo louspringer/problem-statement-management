{
 "cells": [
  {
   "cell_type": "code",
   "execution_count": 1,
   "id": "f3654642-145c-4114-a793-6866b6d3d346",
   "metadata": {},
   "outputs": [
    {
     "name": "stdout",
     "output_type": "stream",
     "text": [
      "Python 3.11.9\n"
     ]
    }
   ],
   "source": [
    "!python --version"
   ]
  },
  {
   "cell_type": "code",
   "execution_count": 3,
   "id": "226fe2e3-5c9b-47b3-8189-c75996fc65b8",
   "metadata": {},
   "outputs": [],
   "source": [
    "from github import Github\n",
    "\n",
    "# Your GitHub token\n",
    "g = Github(\"<<github_pat>>\")\n",
    "\n",
    "# Get the repository\n",
    "repo = g.get_repo(\"louspringer/problem-statement-management\")\n",
    "\n",
    "# Topics to set\n",
    "topics = [\n",
    "    \"problem-solving\",\n",
    "    \"decision-making\",\n",
    "    \"templates\",\n",
    "    \"best-practices\",\n",
    "    \"project-management\",\n",
    "    \"documentation\",\n",
    "    \"professional-development\"\n",
    "]\n",
    "\n",
    "# Update the topics\n",
    "repo.replace_topics(topics)\n"
   ]
  },
  {
   "cell_type": "code",
   "execution_count": null,
   "id": "4a3484fe-10c7-431f-b55d-efe3c22f1230",
   "metadata": {},
   "outputs": [],
   "source": []
  }
 ],
 "metadata": {
  "kernelspec": {
   "display_name": "Python 3 (ipykernel)",
   "language": "python",
   "name": "python3"
  },
  "language_info": {
   "codemirror_mode": {
    "name": "ipython",
    "version": 3
   },
   "file_extension": ".py",
   "mimetype": "text/x-python",
   "name": "python",
   "nbconvert_exporter": "python",
   "pygments_lexer": "ipython3",
   "version": "3.11.9"
  }
 },
 "nbformat": 4,
 "nbformat_minor": 5
}
